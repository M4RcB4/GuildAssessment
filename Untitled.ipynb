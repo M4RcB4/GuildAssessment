{
 "cells": [
  {
   "cell_type": "code",
   "execution_count": 8,
   "metadata": {},
   "outputs": [
    {
     "name": "stdout",
     "output_type": "stream",
     "text": [
      "26.0\n",
      "367.0\n"
     ]
    }
   ],
   "source": [
    "def orderAmount(small, medium, large, leftOver):\n",
    "    # Check for type\n",
    "    # Check for parameter boundary conditions\n",
    "    # Calculate food need; add 20% extra; subtract leftover; return result\n",
    "    foodNeeded = (small*10 + medium*20 + large*30) * 1.2 - leftOver\n",
    "    return print(foodNeeded)\n",
    "\n",
    "orderAmount(0,0,1,10)\n",
    "orderAmount(5,3,7,17)"
   ]
  }
 ],
 "metadata": {
  "kernelspec": {
   "display_name": "Python 3",
   "language": "python",
   "name": "python3"
  },
  "language_info": {
   "codemirror_mode": {
    "name": "ipython",
    "version": 3
   },
   "file_extension": ".py",
   "mimetype": "text/x-python",
   "name": "python",
   "nbconvert_exporter": "python",
   "pygments_lexer": "ipython3",
   "version": "3.8.5"
  }
 },
 "nbformat": 4,
 "nbformat_minor": 4
}
